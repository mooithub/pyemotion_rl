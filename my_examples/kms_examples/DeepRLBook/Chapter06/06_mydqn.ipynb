{
  "nbformat": 4,
  "nbformat_minor": 0,
  "metadata": {
    "colab": {
      "name": "06_mydqn.ipynb",
      "provenance": [],
      "authorship_tag": "ABX9TyOepn/bNNV3VgZRHnn8ZiFo",
      "include_colab_link": true
    },
    "kernelspec": {
      "name": "python3",
      "display_name": "Python 3"
    }
  },
  "cells": [
    {
      "cell_type": "markdown",
      "metadata": {
        "id": "view-in-github",
        "colab_type": "text"
      },
      "source": [
        "<a href=\"https://colab.research.google.com/github/psygrammer/pyemotion_rl/blob/master/my_examples/kms_examples/DeepRLBook/Chapter06/06_mydqn.ipynb\" target=\"_parent\"><img src=\"https://colab.research.google.com/assets/colab-badge.svg\" alt=\"Open In Colab\"/></a>"
      ]
    },
    {
      "cell_type": "code",
      "metadata": {
        "id": "lvyzuG5eMu-f",
        "outputId": "54e99bcc-5e67-472c-f4a9-84d54ef4e881",
        "colab": {
          "base_uri": "https://localhost:8080/"
        }
      },
      "source": [
        "!git clone https://github.com/psygrammer/pyemotion_rl.git"
      ],
      "execution_count": 1,
      "outputs": [
        {
          "output_type": "stream",
          "text": [
            "Cloning into 'pyemotion_rl'...\n",
            "remote: Enumerating objects: 215, done.\u001b[K\n",
            "remote: Counting objects: 100% (215/215), done.\u001b[K\n",
            "remote: Compressing objects: 100% (168/168), done.\u001b[K\n",
            "remote: Total 215 (delta 69), reused 93 (delta 15), pack-reused 0\u001b[K\n",
            "Receiving objects: 100% (215/215), 16.51 MiB | 8.03 MiB/s, done.\n",
            "Resolving deltas: 100% (69/69), done.\n"
          ],
          "name": "stdout"
        }
      ]
    },
    {
      "cell_type": "code",
      "metadata": {
        "id": "AYXVwUPTNks5",
        "outputId": "39d4753f-5c78-4f1d-cd85-7cf8de5e7de2",
        "colab": {
          "base_uri": "https://localhost:8080/"
        }
      },
      "source": [
        "ls"
      ],
      "execution_count": 2,
      "outputs": [
        {
          "output_type": "stream",
          "text": [
            "\u001b[0m\u001b[01;34mpyemotion_rl\u001b[0m/  \u001b[01;34msample_data\u001b[0m/\n"
          ],
          "name": "stdout"
        }
      ]
    },
    {
      "cell_type": "code",
      "metadata": {
        "id": "FqHklzwlNo6X",
        "outputId": "cbd2327e-c9cc-4518-b724-b5824a0a3e65",
        "colab": {
          "base_uri": "https://localhost:8080/"
        }
      },
      "source": [
        "ls pyemotion_rl/my_examples/kms_examples/DeepRLBook/Chapter06/"
      ],
      "execution_count": 6,
      "outputs": [
        {
          "output_type": "stream",
          "text": [
            "06_mydqn.ipynb\n"
          ],
          "name": "stdout"
        }
      ]
    },
    {
      "cell_type": "code",
      "metadata": {
        "id": "260uuyIPNu6B",
        "outputId": "cb336735-2a8c-4ff1-a19b-cec14ff89b1a",
        "colab": {
          "base_uri": "https://localhost:8080/"
        }
      },
      "source": [
        "cd pyemotion_rl/my_examples/kms_examples/DeepRLBook/Chapter06/"
      ],
      "execution_count": 7,
      "outputs": [
        {
          "output_type": "stream",
          "text": [
            "/content/pyemotion_rl/my_examples/kms_examples/DeepRLBook/Chapter06\n"
          ],
          "name": "stdout"
        }
      ]
    },
    {
      "cell_type": "code",
      "metadata": {
        "id": "gIz3aDPxN0Xj",
        "outputId": "d163d032-57be-4cdd-9722-df80df21ca87",
        "colab": {
          "base_uri": "https://localhost:8080/"
        }
      },
      "source": [
        "ls"
      ],
      "execution_count": 8,
      "outputs": [
        {
          "output_type": "stream",
          "text": [
            "06_mydqn.ipynb\n"
          ],
          "name": "stdout"
        }
      ]
    },
    {
      "cell_type": "code",
      "metadata": {
        "id": "UQz25RhFN02O"
      },
      "source": [
        "#remove \" > /dev/null 2>&1\" to see what is going on under the hood\n",
        "!pip install gym pyvirtualdisplay > /dev/null 2>&1\n",
        "!pip install pyglet==1.3.2 > /dev/null 2>&1\n",
        "!apt-get install -y xvfb x11-utils python-opengl ffmpeg > /dev/null 2>&1"
      ],
      "execution_count": 9,
      "outputs": []
    },
    {
      "cell_type": "code",
      "metadata": {
        "id": "qMZeNqXSN4hx"
      },
      "source": [
        "!pip install torch > /dev/null 2>&1"
      ],
      "execution_count": 10,
      "outputs": []
    },
    {
      "cell_type": "code",
      "metadata": {
        "id": "L3G928KUN6QP"
      },
      "source": [
        "!pip install tensorboardX > /dev/null 2>&1"
      ],
      "execution_count": 11,
      "outputs": []
    },
    {
      "cell_type": "code",
      "metadata": {
        "id": "E7hBDc20N8Gx"
      },
      "source": [
        "import gym\n",
        "from gym import logger as gymlogger\n",
        "from gym.wrappers import Monitor\n",
        "gymlogger.set_level(40) #error only\n",
        "\n",
        "import tensorflow as tf\n",
        "import numpy as np\n",
        "import random\n",
        "import matplotlib\n",
        "import matplotlib.pyplot as plt\n",
        "%matplotlib inline\n",
        "\n",
        "import math\n",
        "import glob\n",
        "import io\n",
        "import base64\n",
        "from IPython.display import HTML\n",
        "\n",
        "from IPython import display as ipythondisplay"
      ],
      "execution_count": 12,
      "outputs": []
    },
    {
      "cell_type": "code",
      "metadata": {
        "id": "xJw3JAU4N96n",
        "outputId": "a2fcbdfe-407b-4f10-e7aa-03647162a1d1",
        "colab": {
          "base_uri": "https://localhost:8080/"
        }
      },
      "source": [
        "from pyvirtualdisplay import Display\n",
        "display = Display(visible=0, size=(1400, 900))\n",
        "display.start()"
      ],
      "execution_count": 13,
      "outputs": [
        {
          "output_type": "execute_result",
          "data": {
            "text/plain": [
              "<pyvirtualdisplay.display.Display at 0x7fe5098e8490>"
            ]
          },
          "metadata": {
            "tags": []
          },
          "execution_count": 13
        }
      ]
    },
    {
      "cell_type": "code",
      "metadata": {
        "id": "NSLUHicqOAQN"
      },
      "source": [
        "\"\"\"\n",
        "Utility functions to enable video recording of gym environment and displaying it\n",
        "To enable video, just do \"env = wrap_env(env)\"\"\n",
        "\"\"\"\n",
        "\n",
        "def show_video():\n",
        "  mp4list = glob.glob('video/*.mp4')\n",
        "  if len(mp4list) > 0:\n",
        "    mp4 = mp4list[0]\n",
        "    video = io.open(mp4, 'r+b').read()\n",
        "    encoded = base64.b64encode(video)\n",
        "    ipythondisplay.display(HTML(data='''<video alt=\"test\" autoplay \n",
        "                loop controls style=\"height: 400px;\">\n",
        "                <source src=\"data:video/mp4;base64,{0}\" type=\"video/mp4\" />\n",
        "             </video>'''.format(encoded.decode('ascii'))))\n",
        "  else: \n",
        "    print(\"Could not find video\")\n",
        "    \n",
        "\n",
        "def wrap_env(env):\n",
        "  env = Monitor(env, './video', force=True)\n",
        "  return env"
      ],
      "execution_count": 14,
      "outputs": []
    },
    {
      "cell_type": "code",
      "metadata": {
        "id": "avSRonXcOCQq"
      },
      "source": [
        "class Agent:\n",
        "  def __init__(self):\n",
        "    pass\n",
        "\n",
        "  def play_step(self, net, epsilon, device):\n",
        "    reward = 0\n",
        "    return reward"
      ],
      "execution_count": 21,
      "outputs": []
    },
    {
      "cell_type": "code",
      "metadata": {
        "id": "1m7prq8gRb4Q"
      },
      "source": [
        "class DQN:\n",
        "  def __init__(self, shape, n):\n",
        "    pass\n",
        "\n",
        "  "
      ],
      "execution_count": 26,
      "outputs": []
    },
    {
      "cell_type": "code",
      "metadata": {
        "id": "NzUgTiXkRr2V"
      },
      "source": [
        "class Env:\n",
        "  \n",
        "  observation_space_shape = None\n",
        "  action_space_n = None\n",
        "\n",
        "  def __init__(self):\n",
        "    pass\n",
        "\n",
        "  "
      ],
      "execution_count": 33,
      "outputs": []
    },
    {
      "cell_type": "code",
      "metadata": {
        "id": "LUqP2B3gR6M-"
      },
      "source": [
        "env = Env()"
      ],
      "execution_count": 34,
      "outputs": []
    },
    {
      "cell_type": "code",
      "metadata": {
        "id": "_qHu_dfMPLBS"
      },
      "source": [
        "#net = dqn_model.DQN(env.observation_space.shape,\n",
        "#                    env.action_space.n).to(device)\n",
        "net = DQN(env.observation_space_shape,\n",
        "                    env.action_space_n) #.to(device)"
      ],
      "execution_count": 35,
      "outputs": []
    },
    {
      "cell_type": "code",
      "metadata": {
        "id": "GwToaFjQOrC4"
      },
      "source": [
        "agent = Agent()"
      ],
      "execution_count": 36,
      "outputs": []
    },
    {
      "cell_type": "code",
      "metadata": {
        "id": "OSW1LpG4OGIk",
        "outputId": "a71e6415-56ec-41bb-ab1a-2f3287e333d2",
        "colab": {
          "base_uri": "https://localhost:8080/"
        }
      },
      "source": [
        "epsilon = None\n",
        "device = None \n",
        "\n",
        "reward = agent.play_step(net, epsilon, device=device)\n",
        "print(reward)"
      ],
      "execution_count": 37,
      "outputs": [
        {
          "output_type": "stream",
          "text": [
            "0\n"
          ],
          "name": "stdout"
        }
      ]
    },
    {
      "cell_type": "code",
      "metadata": {
        "id": "-6K8B805OWMj"
      },
      "source": [
        ""
      ],
      "execution_count": null,
      "outputs": []
    }
  ]
}