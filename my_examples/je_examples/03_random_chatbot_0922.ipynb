{
 "cells": [
  {
   "cell_type": "code",
   "execution_count": 1,
   "metadata": {},
   "outputs": [],
   "source": [
    "import gym"
   ]
  },
  {
   "cell_type": "code",
   "execution_count": 2,
   "metadata": {},
   "outputs": [],
   "source": [
    "import random"
   ]
  },
  {
   "cell_type": "code",
   "execution_count": 19,
   "metadata": {},
   "outputs": [],
   "source": [
    "from PIL import Image\n",
    "import requests\n",
    "from io import BytesIO"
   ]
  },
  {
   "cell_type": "code",
   "execution_count": 39,
   "metadata": {},
   "outputs": [],
   "source": [
    "class MyEnv:\n",
    "    def __init__(self):\n",
    "        self.n_step = 2\n",
    "        self.image_url = [\n",
    "            'https://img1.daumcdn.net/thumb/R1280x0/?scode=mtistory2&fname=https%3A%2F%2Ft1.daumcdn.net%2Fcfile%2Ftistory%2F99D7E1485D9476D008',\n",
    "            'https://upload.wikimedia.org/wikipedia/commons/thumb/1/1f/Oryctolagus_cuniculus_Rcdo.jpg/800px-Oryctolagus_cuniculus_Rcdo.jpg',\n",
    "            'https://upload.wikimedia.org/wikipedia/commons/thumb/1/1f/Oryctolagus_cuniculus_Rcdo.jpg/800px-Oryctolagus_cuniculus_Rcdo.jpg'\n",
    "        ]\n",
    "        self.utterances = [\"안녕?\", \"오늘 날씨 좋아?\", \"오늘 무슨 요일이야?\"]\n",
    "        self.observation_space = [{\"img\": self.image_url[i],\"text\":self.utterances[i]} for i in range(len(self.utterances))]\n",
    "        \n",
    "    \n",
    "    def sample(self):\n",
    "        return random.choice(self.utterances)\n",
    "                                                             \n",
    "\n",
    "    def vqa_sample(self):\n",
    "        self.vqa = random.choice(self.observation_space)\n",
    "        response = requests.get(self.vqa[\"img\"])\n",
    "        img=Image.open(BytesIO(response.content))\n",
    "        img\n",
    "        print(\"\\n\")\n",
    "        print(self.vqa[\"text\"])                                                     \n",
    "        return self.vqa                                                                                                                   \n",
    "    \n",
    "    def reset(self):\n",
    "        self.obs = \"안녕?\"\n",
    "        return self.obs\n",
    "    \n",
    "    def step(self, action):\n",
    "        if (obs == \"안녕?\" and action == \"안녕\") or (obs == \"오늘 날씨 좋아?\" and action == \"오늘 날씨 좋아\") or (obs == \"오늘 무슨 요일이야?\" and action == \"화요일\"):\n",
    "            reward = 1\n",
    "        else: \n",
    "            reward = -1\n",
    "        self.n_step -= 1\n",
    "        if self.n_step == 0:\n",
    "            done = True\n",
    "        else: \n",
    "            done = False                   \n",
    "        info = None\n",
    "        self.obs = self.sample()\n",
    "        return self.obs, reward, done, info"
   ]
  },
  {
   "cell_type": "code",
   "execution_count": 40,
   "metadata": {},
   "outputs": [],
   "source": [
    "class MyAgent:\n",
    "    \n",
    "    def __init__(self):\n",
    "        self.action_space = [\"안녕\", \"오늘 날씨 좋아\", \"화요일\"]\n",
    "        \n",
    "\n",
    "    def sample(self):\n",
    "        return random.choice(self.action_space)\n",
    "        \n",
    "        \n",
    "    def trans_w2v(self,obs):\n",
    "        \n",
    "        feat = 1 \n",
    "        \n",
    "        return feat\n",
    "        \n",
    "    def act(self, obs):\n",
    "        feat = self.trans_w2v(obs)\n",
    "        \n",
    "        action = self.sample()\n",
    "        return action"
   ]
  },
  {
   "cell_type": "code",
   "execution_count": 41,
   "metadata": {},
   "outputs": [
    {
     "name": "stdout",
     "output_type": "stream",
     "text": [
      "나:  안녕?\n",
      "챗봇:  화요일\n",
      "나:  안녕?\n",
      "챗봇:  안녕\n",
      "Reward got: 0.00\n",
      "\n",
      "\n",
      "오늘 무슨 요일이야?\n"
     ]
    }
   ],
   "source": [
    "if __name__ == \"__main__\":\n",
    "    #env = RandomActionWrapper(gym.make(\"CartPole-v0\"))\n",
    "    env = MyEnv()\n",
    "    agent = MyAgent()\n",
    "\n",
    "    obs = env.reset()\n",
    "    total_reward = 0.0\n",
    "\n",
    "    while True:\n",
    "        print(\"나: \", obs)\n",
    "        action = agent.act(obs)\n",
    "        print(\"챗봇: \", action)\n",
    "        obs, reward, done, _ = env.step(action)\n",
    "        total_reward += reward\n",
    "\n",
    "        #obs, reward, done, _ = env.step(0)\n",
    "       \n",
    "        if done:\n",
    "            break\n",
    "\n",
    "    print(\"Reward got: %.2f\" % total_reward)\n",
    "\n",
    "    env.vqa_sample()"
   ]
  },
  {
   "cell_type": "code",
   "execution_count": null,
   "metadata": {},
   "outputs": [],
   "source": []
  },
  {
   "cell_type": "code",
   "execution_count": null,
   "metadata": {},
   "outputs": [],
   "source": []
  }
 ],
 "metadata": {
  "kernelspec": {
   "display_name": "Python 3",
   "language": "python",
   "name": "python3"
  },
  "language_info": {
   "codemirror_mode": {
    "name": "ipython",
    "version": 3
   },
   "file_extension": ".py",
   "mimetype": "text/x-python",
   "name": "python",
   "nbconvert_exporter": "python",
   "pygments_lexer": "ipython3",
   "version": "3.7.6"
  }
 },
 "nbformat": 4,
 "nbformat_minor": 4
}
